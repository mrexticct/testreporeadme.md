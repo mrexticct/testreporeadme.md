{
 "cells": [
  {
   "cell_type": "markdown",
   "metadata": {},
   "source": [
    "# Data science Tools and Ecosystem\n",
    "## Introduction\n",
    "In this notebook Data Science Tools and Ecosystem are summarized\n",
    "## Some of the popular languages that Data Scientists use are:\n",
    "1.Python\n",
    "2.R\n",
    "3.SQL\n",
    "## Some Of the Commonly Used Libraries used by Data Scientists include:\n",
    "1.NumPY\n",
    "2.Pandas\n",
    "3.Matplotlib\n",
    "4.Seaborn"
   ]
  },
  {
   "cell_type": "markdown",
   "metadata": {},
   "source": [
    "| Data Science Tools    |\n",
    "|-----------------------|\n",
    "|Jupyter Notebook       |\n",
    "| RStudio               |\n",
    "| VS Code with python   |\n",
    "## Examples of evaluating arthimetic expressiosn in python\n",
    "In this section we'll explore a few examples of evaluating arithmetic expressiosn in python"
   ]
  },
  {
   "cell_type": "markdown",
   "metadata": {},
   "source": [
    "# This is simple arithmetic expression to multiply and add integers .\n",
    "result = (3 * 4) + 5\n",
    "result"
   ]
  },
  {
   "cell_type": "markdown",
   "metadata": {},
   "source": [
    "# This will convert 200 minutes to hours by dividing by 60\n",
    "minutes = 200\n",
    "hours = min/60\n",
    "hours"
   ]
  },
  {
   "cell_type": "markdown",
   "metadata": {},
   "source": [
    "## Objectives\n",
    "\n",
    "List popular languages for Data Science.\n",
    "Identify commonly used Data science libraries.\n",
    "Perform arithmetic operations in python.\n",
    "Convert minutes to hours using python.\n",
    "Explore and analyze data using python and Data science tools."
   ]
  },
  {
   "cell_type": "markdown",
   "metadata": {},
   "source": []
  },
  {
   "cell_type": "markdown",
   "metadata": {},
   "source": [
    "## Author\n",
    "Girish"
   ]
  },
  {
   "cell_type": "markdown",
   "metadata": {},
   "source": []
  }
 ],
 "metadata": {
  "kernelspec": {
   "display_name": "Python",
   "language": "python",
   "name": "conda-env-python-py"
  },
  "language_info": {
   "codemirror_mode": {
    "name": "ipython",
    "version": 3
   },
   "file_extension": ".py",
   "mimetype": "text/x-python",
   "name": "python",
   "nbconvert_exporter": "python",
   "pygments_lexer": "ipython3",
   "version": "3.7.12"
  }
 },
 "nbformat": 4,
 "nbformat_minor": 4
}
